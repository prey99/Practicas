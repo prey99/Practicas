{
 "cells": [
  {
   "cell_type": "code",
   "execution_count": 1,
   "metadata": {},
   "outputs": [
    {
     "name": "stdout",
     "output_type": "stream",
     "text": [
      "Type all the elements you want in the list.\n",
      "If you are done, type \"quit\".\n",
      "Element to be in the list: a\n",
      "Element to be in the list: b\n",
      "Element to be in the list: c\n",
      "Element to be in the list: d\n",
      "Element to be in the list: quit\n",
      "The resulting string is: a, b, c and d\n"
     ]
    }
   ],
   "source": [
    "#Write a function that takes a list value as an argument\n",
    "#and returns a string with all the items separated by a comma\n",
    "#and a space, with 'and' inserted before the last item.\n",
    "#For example, if spam=['apples', 'bananas', 'tofu', 'cats']\n",
    "#the function would return 'apples, bananas, tofu, and cats'.\n",
    "#But your function should be able to work with any\n",
    "#list value passed to it. Be sure to test the case where\n",
    "#an empty list [] is passed to your function.\n",
    "\n",
    "spam = []\n",
    "typed = ()\n",
    "stringA = \"\"\n",
    "\n",
    "#print(spam)\n",
    "#print(stringA)\n",
    "print('Type all the elements you want in the list.')\n",
    "print('If you are done, type \"quit\".')\n",
    "\n",
    "\n",
    "while typed != 'quit' :\n",
    "    spam.append(typed)\n",
    "    typed = input('Element to be in the list: ')\n",
    "#    if spam != 'quit' :\n",
    "#        spam.append(typed)\n",
    "del spam[0]  \n",
    " \n",
    "#print(spam)\n",
    "\n",
    "\n",
    "for i in range(len(spam) - 2) :\n",
    "     stringA += spam[i] + ', '\n",
    "     \n",
    "stringA += spam[len(spam) - 2] + ' and ' + spam[len(spam) - 1]\n",
    "\n",
    "print('The resulting string is: ' + stringA)\n",
    "\n",
    "\n",
    "\n",
    "\n",
    "\n"
   ]
  },
  {
   "cell_type": "code",
   "execution_count": null,
   "metadata": {},
   "outputs": [],
   "source": []
  },
  {
   "cell_type": "code",
   "execution_count": null,
   "metadata": {},
   "outputs": [],
   "source": []
  }
 ],
 "metadata": {
  "kernelspec": {
   "display_name": "Python 3",
   "language": "python",
   "name": "python3"
  },
  "language_info": {
   "codemirror_mode": {
    "name": "ipython",
    "version": 3
   },
   "file_extension": ".py",
   "mimetype": "text/x-python",
   "name": "python",
   "nbconvert_exporter": "python",
   "pygments_lexer": "ipython3",
   "version": "3.7.6"
  }
 },
 "nbformat": 4,
 "nbformat_minor": 4
}
